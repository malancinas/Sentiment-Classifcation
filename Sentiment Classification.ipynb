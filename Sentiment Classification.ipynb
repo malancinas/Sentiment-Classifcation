{
 "cells": [
  {
   "cell_type": "markdown",
   "metadata": {
    "id": "f2S8I2ny-ovS"
   },
   "source": [
    "### Sentiment Classification Using My Own Construction and Naive Bayes"
   ]
  },
  {
   "cell_type": "code",
   "execution_count": 1,
   "metadata": {
    "executionInfo": {
     "elapsed": 776,
     "status": "ok",
     "timestamp": 1602225678050,
     "user": {
      "displayName": "Julie Weeds",
      "photoUrl": "",
      "userId": "13844540934373660130"
     },
     "user_tz": -60
    },
    "id": "1gXQAZas-l9c"
   },
   "outputs": [],
   "source": [
    "randomno=244816\n"
   ]
  },
  {
   "cell_type": "code",
   "execution_count": 2,
   "metadata": {
    "colab": {
     "base_uri": "https://localhost:8080/",
     "height": 102
    },
    "executionInfo": {
     "elapsed": 7200,
     "status": "ok",
     "timestamp": 1602224747300,
     "user": {
      "displayName": "Julie Weeds",
      "photoUrl": "",
      "userId": "13844540934373660130"
     },
     "user_tz": -60
    },
    "id": "nk8JTP88A8vs",
    "outputId": "65e59f95-9e7d-494f-d156-a0428f135fef"
   },
   "outputs": [
    {
     "name": "stderr",
     "output_type": "stream",
     "text": [
      "[nltk_data] Downloading package punkt to\n",
      "[nltk_data]     C:\\Users\\the-e\\AppData\\Roaming\\nltk_data...\n",
      "[nltk_data]   Package punkt is already up-to-date!\n",
      "[nltk_data] Downloading package stopwords to\n",
      "[nltk_data]     C:\\Users\\the-e\\AppData\\Roaming\\nltk_data...\n",
      "[nltk_data]   Package stopwords is already up-to-date!\n",
      "[nltk_data] Downloading package movie_reviews to\n",
      "[nltk_data]     C:\\Users\\the-e\\AppData\\Roaming\\nltk_data...\n",
      "[nltk_data]   Package movie_reviews is already up-to-date!\n",
      "[nltk_data] Downloading package wordnet to\n",
      "[nltk_data]     C:\\Users\\the-e\\AppData\\Roaming\\nltk_data...\n",
      "[nltk_data]   Package wordnet is already up-to-date!\n"
     ]
    },
    {
     "data": {
      "text/plain": [
       "True"
      ]
     },
     "execution_count": 2,
     "metadata": {},
     "output_type": "execute_result"
    }
   ],
   "source": [
    "#do not change the code in this cell\n",
    "#preliminary imports\n",
    "\n",
    "#set up nltk\n",
    "import nltk\n",
    "nltk.download('punkt')\n",
    "nltk.download('stopwords')\n",
    "nltk.download('movie_reviews')\n",
    "from nltk.corpus import stopwords\n",
    "from nltk.tokenize import word_tokenize\n",
    "from nltk.corpus import movie_reviews\n",
    "\n",
    "#for setting up training and testing data\n",
    "import random\n",
    "\n",
    "#useful other tools\n",
    "import re\n",
    "import pandas as pd\n",
    "import matplotlib.pyplot as plt\n",
    "%matplotlib inline\n",
    "from itertools import zip_longest\n",
    "from nltk.probability import FreqDist\n",
    "from nltk.classify.api import ClassifierI\n",
    "from nltk.stem.wordnet import WordNetLemmatizer\n",
    "nltk.download('wordnet')\n"
   ]
  },
  {
   "cell_type": "code",
   "execution_count": 3,
   "metadata": {
    "executionInfo": {
     "elapsed": 854,
     "status": "ok",
     "timestamp": 1602226177157,
     "user": {
      "displayName": "Julie Weeds",
      "photoUrl": "",
      "userId": "13844540934373660130"
     },
     "user_tz": -60
    },
    "id": "BHBkzAccCVaZ"
   },
   "outputs": [],
   "source": [
    "def split_data(data, ratio=0.7): # when the second argument is not given, it defaults to 0.7\n",
    "    \"\"\"\n",
    "    Given corpus generator and ratio:\n",
    "     - partitions the corpus into training data and test data, where the proportion in train is ratio,\n",
    "\n",
    "    :param data: A corpus generator.\n",
    "    :param ratio: The proportion of training documents (default 0.7)\n",
    "    :return: a pair (tuple) of lists where the first element of the \n",
    "            pair is a list of the training data and the second is a list of the test data.\n",
    "    \"\"\"\n",
    "    \n",
    "    data = list(data)  \n",
    "    n = len(data)  \n",
    "    train_indices = random.sample(range(n), int(n * ratio))          \n",
    "    test_indices = list(set(range(n)) - set(train_indices))    \n",
    "    train = [data[i] for i in train_indices]           \n",
    "    test = [data[i] for i in test_indices]             \n",
    "    return (train, test)                       \n",
    " \n",
    "\n",
    "def get_train_test_data():\n",
    "    \n",
    "    #get ids of positive and negative movie reviews\n",
    "    pos_review_ids=movie_reviews.fileids('pos')\n",
    "    neg_review_ids=movie_reviews.fileids('neg')\n",
    "   \n",
    "    #split positive and negative data into training and testing sets\n",
    "    pos_train_ids, pos_test_ids = split_data(pos_review_ids)\n",
    "    neg_train_ids, neg_test_ids = split_data(neg_review_ids)\n",
    "    #add labels to the data and concatenate\n",
    "    training = [(movie_reviews.words(f),'pos') for f in pos_train_ids]+[(movie_reviews.words(f),'neg') for f in neg_train_ids]\n",
    "    testing = [(movie_reviews.words(f),'pos') for f in pos_test_ids]+[(movie_reviews.words(f),'neg') for f in neg_test_ids]\n",
    "   \n",
    "    return training, testing"
   ]
  },
  {
   "cell_type": "markdown",
   "metadata": {
    "id": "1N3LWwBYICPP"
   },
   "source": [
    "When you have run the cell below, your unique training and testing samples will be stored in `training_data` and `testing_data`"
   ]
  },
  {
   "cell_type": "code",
   "execution_count": 4,
   "metadata": {
    "colab": {
     "base_uri": "https://localhost:8080/",
     "height": 105
    },
    "executionInfo": {
     "elapsed": 17300,
     "status": "ok",
     "timestamp": 1602226420608,
     "user": {
      "displayName": "Julie Weeds",
      "photoUrl": "",
      "userId": "13844540934373660130"
     },
     "user_tz": -60
    },
    "id": "HJLegkdPFUJA",
    "outputId": "b29ea6a9-ea00-4b68-f0cb-ce9e6fa25233"
   },
   "outputs": [
    {
     "name": "stdout",
     "output_type": "stream",
     "text": [
      "The amount of training data is 1400\n",
      "The amount of testing data is 600\n",
      "The representation of a single data item is below\n",
      "(['there', 'was', 'a', 'huge', 'crowd', '-', 'so', ...], 'pos')\n"
     ]
    }
   ],
   "source": [
    "random.seed(randomno)\n",
    "training_data,testing_data=get_train_test_data()\n",
    "print(\"The amount of training data is {}\".format(len(training_data)))\n",
    "print(\"The amount of testing data is {}\".format(len(testing_data)))\n",
    "print(\"The representation of a single data item is below\")\n",
    "print(training_data[0])"
   ]
  },
  {
   "cell_type": "markdown",
   "metadata": {},
   "source": [
    "## 1  \n",
    "a) **Generate** a list of 10 content words which are representative of the positive reviews in your training data.\n",
    "\n",
    "b) **Generate** a list of 10 content words which are representative of the negative reviews in your training data.\n",
    "\n",
    "c) **Explain** what you have done and why\n",
    "\n"
   ]
  },
  {
   "cell_type": "markdown",
   "metadata": {},
   "source": [
    "Before continuing with the following project please make sure that you go to the \"**cell\"** drop down in jupyter $\\rightarrow$ **current outputs** $\\rightarrow$ **toggle scrolling**. This will display my graphs fully inline without creating a small scrollable display. Alternatively the shortcut is **shift-o**"
   ]
  },
  {
   "cell_type": "code",
   "execution_count": 5,
   "metadata": {},
   "outputs": [],
   "source": [
    "#Need to ensure that words that carry context i.e stopwords are removed\n",
    "stop = stopwords.words(\"english\") #suitable for multiple language- englihs picked\n",
    "lemm = WordNetLemmatizer()\n",
    "def normalise(text):\n",
    "    nopunc = [word for word in text if word.isalpha()]\n",
    "    filterstop=[words for words in nopunc if words not in stop]\n",
    "    filtered = [lemm.lemmatize(filters) for filters in filterstop]\n",
    "    return filtered\n",
    "#removing irrelevant words"
   ]
  },
  {
   "cell_type": "code",
   "execution_count": 6,
   "metadata": {},
   "outputs": [
    {
     "data": {
      "text/plain": [
       "'pos'"
      ]
     },
     "execution_count": 6,
     "metadata": {},
     "output_type": "execute_result"
    }
   ],
   "source": [
    "training_norm=[(FreqDist(normalise(wordlist)),label) for (wordlist,label) in training_data]\n",
    "# split the data into labels\n",
    "testing_norm=[(FreqDist(normalise(wordlist)),label) for (wordlist,label) in testing_data]\n",
    "training_norm[0][1] #checking where the label is placed"
   ]
  },
  {
   "cell_type": "code",
   "execution_count": 7,
   "metadata": {},
   "outputs": [],
   "source": [
    "poslist = []\n",
    "neglist = []\n",
    "\n",
    "for i in range(len(training_norm)): #iterating through every split list\n",
    "    if training_norm[i][1] == \"pos\":\n",
    "        for word in training_norm[i][0]: #to append the independent words\n",
    "            poslist.append(word)\n",
    "    else:\n",
    "        for word in training_norm[i][0]: #same as above if word not pos then = neg\n",
    "            neglist.append(word)"
   ]
  },
  {
   "cell_type": "code",
   "execution_count": 8,
   "metadata": {},
   "outputs": [
    {
     "data": {
      "text/plain": [
       "[('film', 624),\n",
       " ('one', 622),\n",
       " ('movie', 602),\n",
       " ('like', 544),\n",
       " ('character', 498),\n",
       " ('get', 480),\n",
       " ('time', 473),\n",
       " ('even', 470),\n",
       " ('make', 460),\n",
       " ('good', 418)]"
      ]
     },
     "execution_count": 8,
     "metadata": {},
     "output_type": "execute_result"
    }
   ],
   "source": [
    "neglistfreq = FreqDist(neglist)\n",
    "neglistfreq.most_common(10)"
   ]
  },
  {
   "cell_type": "code",
   "execution_count": 9,
   "metadata": {
    "scrolled": true
   },
   "outputs": [
    {
     "data": {
      "text/plain": [
       "[('film', 641),\n",
       " ('one', 632),\n",
       " ('movie', 558),\n",
       " ('like', 513),\n",
       " ('time', 509),\n",
       " ('character', 504),\n",
       " ('make', 466),\n",
       " ('get', 454),\n",
       " ('even', 438),\n",
       " ('also', 423)]"
      ]
     },
     "execution_count": 9,
     "metadata": {},
     "output_type": "execute_result"
    }
   ],
   "source": [
    "poslistfreq = FreqDist(poslist)\n",
    "poslistfreq.most_common(10)"
   ]
  },
  {
   "cell_type": "code",
   "execution_count": 10,
   "metadata": {},
   "outputs": [
    {
     "name": "stdout",
     "output_type": "stream",
     "text": [
      "[('also', 102), ('life', 97), ('performance', 95), ('world', 83), ('quite', 83), ('best', 81), ('great', 76), ('perfect', 74), ('many', 70), ('others', 70)]\n"
     ]
    }
   ],
   "source": [
    "posdifferencelistfreq = poslistfreq - neglistfreq\n",
    "pos_freq_diff= posdifferencelistfreq.most_common(10)\n",
    "print(pos_freq_diff)"
   ]
  },
  {
   "cell_type": "code",
   "execution_count": 11,
   "metadata": {},
   "outputs": [
    {
     "name": "stdout",
     "output_type": "stream",
     "text": [
      "[('bad', 181), ('worst', 118), ('plot', 109), ('nothing', 94), ('boring', 84), ('unfortunately', 77), ('minute', 77), ('supposed', 77), ('script', 74), ('stupid', 74)]\n"
     ]
    }
   ],
   "source": [
    "negdifferencelistfreq=neglistfreq-poslistfreq\n",
    "neg_freq_diff = negdifferencelistfreq.most_common(10)\n",
    "print(neg_freq_diff)"
   ]
  },
  {
   "cell_type": "markdown",
   "metadata": {},
   "source": [
    "The task of generating content words for postivie and negative reviews firstly required removal of irrelvant words,stopwords. These words are irrelvant in the text and they account for roughly 50% of general sentences. These have no sentiment and cannot be included in data as they would easily outnumber any of the real \"sentimental\" words such as \"bad\" or \"great\". I did this in the first function where I originally removed all punctuation from the text using the .isalpha() attribute inside of a for loop which created a list of \"word\" that are only added to a new list \"nopunc\" if and only if all the characters in the \"word\" arealphabetical letters. Then the nopunc list was used where only \"words\" that are in nopunc are not in the stopword list \"stop\". - If this was not done then the most common words would yield a very different result. The lemmatizer was also used here to group together different variations of the same word. This changes the result as it gives the \"root\" word used. i.e someone who said \"movie\" and \"movies\" would give two different values in the list- lemmatizing turns this into just \"movie\".\n",
    "\n",
    "The training data was put through to generate the training_norm set. This data is labled into two section from the trainng data. This is done to put the postive and negative comments into a nested set, allowing for easier extraction of the postive and negative key words. I performed a test of training_norm[0][1] to view the data set's \"label\".\n",
    "\n",
    "Further on I created an empty list of postive words and negative words which I then appended items into with a filter. using a for loop for the entire samples data set (using len function here) I was able to iterate though the entire list of training norms and using the tested function detailed in the last paragraph i knew how the data was \"labled\" and thus I was able to only append the items in the list if the second column item was exactly equal to \"pos\". This allowed me to isoalte the two instance of postive and negative data. Hence creating two lists \"poslist\" and \"neglist\"\n",
    "\n",
    "Then a negativelistfreq variable was initited using the FreqDist import with the input neglist. This generated a frequency distribution dictionary which essentially counts all of the instances of a word appearing in the list.\n",
    "then the .most_common(10) attribute was used to find the values which had the most occurences.\n",
    "\n",
    "Finally through subtraction of negative from postive showed the biggest difference of postive words from negative and through subtraction of positive words from negative words gave the words that occured vastly in negative reviews."
   ]
  },
  {
   "cell_type": "markdown",
   "metadata": {
    "id": "TApOQE6vND20"
   },
   "source": [
    "## 2\n",
    "a) **Use** the lists generated in Q1 to build a **word list classifier** which will classify reviews as being positive or negative.\n",
    "\n",
    "b) **Explain** what you have done.\n",
    "\n"
   ]
  },
  {
   "cell_type": "code",
   "execution_count": 12,
   "metadata": {
    "id": "BThDMrcmODJy"
   },
   "outputs": [
    {
     "name": "stdout",
     "output_type": "stream",
     "text": [
      "['also', 'life', 'performance', 'world', 'quite', 'best', 'great', 'perfect', 'many', 'others']\n"
     ]
    }
   ],
   "source": [
    "my_pos_word_list = []\n",
    "for i in range(10):\n",
    "    [my_pos_word_list.append(pos_freq_diff[i][0])]\n",
    "print(my_pos_word_list)"
   ]
  },
  {
   "cell_type": "code",
   "execution_count": 13,
   "metadata": {
    "scrolled": true
   },
   "outputs": [
    {
     "name": "stdout",
     "output_type": "stream",
     "text": [
      "['bad', 'worst', 'plot', 'nothing', 'boring', 'unfortunately', 'minute', 'supposed', 'script', 'stupid']\n"
     ]
    }
   ],
   "source": [
    "my_neg_word_list = []\n",
    "for i in range(10):\n",
    "    [my_neg_word_list.append(neg_freq_diff[i][0])]\n",
    "print(my_neg_word_list)"
   ]
  },
  {
   "cell_type": "code",
   "execution_count": 173,
   "metadata": {},
   "outputs": [],
   "source": [
    "from nltk.classify.api import ClassifierI\n",
    "import random\n",
    "\n",
    "class SimpleClassifier(ClassifierI): \n",
    "\n",
    "    def __init__(self, pos, neg): \n",
    "        self._pos = pos \n",
    "        self._neg = neg \n",
    "\n",
    "    def classify(self, words):\n",
    "        score = 0\n",
    "        #This will put the word list into either a positive or negative sub list\n",
    "        for word in words:\n",
    "            if lemm.lemmatize(word) in self._pos:\n",
    "                score += 1\n",
    "            if lemm.lemmatize(word) in self._neg:\n",
    "                score -= 1\n",
    "            else:\n",
    "                score += 0\n",
    "        \n",
    "        if score <0:\n",
    "            return \"neg\"\n",
    "        elif score >0:\n",
    "            return \"pos\"\n",
    "        #else:\n",
    "            #choices = [\"pos\",\"neg\"]\n",
    "            #return random.choice(choices)\n",
    "\n",
    "\n",
    "    def labels(self): \n",
    "        return (\"pos\", \"neg\")\n"
   ]
  },
  {
   "cell_type": "code",
   "execution_count": 174,
   "metadata": {},
   "outputs": [
    {
     "data": {
      "text/plain": [
       "'pos'"
      ]
     },
     "execution_count": 174,
     "metadata": {},
     "output_type": "execute_result"
    }
   ],
   "source": [
    "classifier = SimpleClassifier(my_pos_word_list, my_neg_word_list)\n",
    "classifier.classify(\"I loved all the performances\".split())"
   ]
  },
  {
   "cell_type": "code",
   "execution_count": 175,
   "metadata": {},
   "outputs": [],
   "source": [
    "classifier.classify(\"movie\".split())"
   ]
  },
  {
   "cell_type": "code",
   "execution_count": 176,
   "metadata": {},
   "outputs": [
    {
     "name": "stdout",
     "output_type": "stream",
     "text": [
      "None\n",
      "None\n",
      "None\n",
      "None\n",
      "None\n",
      "None\n",
      "None\n",
      "None\n",
      "None\n",
      "None\n"
     ]
    }
   ],
   "source": [
    "#checking that a 0 sum gives a random choice\n",
    "for i in range(10):\n",
    "    print(classifier.classify(\"This movie was also bad\".split()))"
   ]
  },
  {
   "cell_type": "markdown",
   "metadata": {},
   "source": [
    "Firstly I needed a positive word list that is easy to filter through. I turned the positive frequency difference dictionary into a word list with only the words in that frequency being appended. This was also done to the negative words giving me two lists that cna be used in the classifier to dictate whether an inserted sentence has either a positive or negative summed score.\n",
    "\n",
    "Creating the class was simple as done in previous labs, an initialisation of self was defined as the first instance of the class. Where self is the collection of words. Here it is the sentence we are trying to find the sentiment of. This has two results - either it will be in the positive category of the negative category.\n",
    "\n",
    "The next define function is where the text score is summed up. With self still being a key attribute in the definition. Here it has inherited the self._pos and self._neg. Looking into the code it is clear to see that all that is happening is the text is getting a simple summation of the words weight for if the word has been defined in the positive group then each occurence of that words will +1 to the summed score. Similarily each instance of a negative word will add -1 to the summed score. Words that hold no weight will add nothing to the score. The words used here have also been lemmatized since the positive and negative word list are lemmatized version it would make sence to use lemmatizer here aswell. This removes i.e a plural of a word not classified into positive or negative.\n",
    "\n",
    "Once the entire score has been summed up- we are returned a string of either telling us that the sentiment is \"neg\" or \"pos\". Where the overall weight of the inserted text is 0 i have used a random choice of either positive or negative. Finally this was checked with a few instances of the result as seen above.\n",
    "\n",
    "The lemmatiser of the word has been checked on the first sentence. \"performances\" was used given that i knew performace was a highly postive sentimental word.\n",
    "\n"
   ]
  },
  {
   "cell_type": "markdown",
   "metadata": {},
   "source": []
  },
  {
   "cell_type": "markdown",
   "metadata": {},
   "source": [
    "## 3\n",
    "a) **Calculate** the accuracy, precision, recall and F1 score of your classifier.\n",
    "\n",
    "b) Is it reasonable to evaluate the classifier in terms of its accuracy?  **Explain** your answer and give a counter-example (a scenario where it would / would not be reasonable to evaluate the classifier in terms of its accuracy).\n",
    "\n"
   ]
  },
  {
   "cell_type": "code",
   "execution_count": 177,
   "metadata": {},
   "outputs": [],
   "source": [
    "class ConfusionMatrix:\n",
    "    def __init__(self,predictions,goldstandard,classes=(\"pos\",\"neg\")):\n",
    "    \n",
    "        (self.c1,self.c2)=classes #c1,c2 are subclasses for the \"pos\",\"neg\" lists\n",
    "        self.TP=0\n",
    "        self.FP=0\n",
    "        self.FN=0\n",
    "        self.TN=0\n",
    "        for p,g in zip(predictions,goldstandard): #isolating prediction and actual values\n",
    "            if g==self.c1:\n",
    "                if p==self.c1:\n",
    "                    self.TP+=1\n",
    "                else:\n",
    "                    self.FN+=1\n",
    "        # adds to the relevant metric we want\n",
    "            elif p==self.c1:\n",
    "                self.FP+=1\n",
    "            else:\n",
    "                self.TN+=1\n",
    "        \n",
    "    #below are general definitions of metrics\n",
    "    def precision(self):     \n",
    "        p = self.TP / (self.TP + self.FP)\n",
    "        return p\n",
    "  \n",
    "    def recall(self):\n",
    "        r= self.TP /(self.TP +self.FN)\n",
    "        return r\n",
    "  \n",
    "    def f1(self):\n",
    "        p = self.precision()\n",
    "        r = self.recall()\n",
    "        f1= 2*p*r /(p+r)\n",
    "        return f1 \n",
    "    \n",
    "    def accuracy(self):\n",
    "        a=(self.TP+self.TN)/(self.TP+self.FP+self.TN+self.FN)\n",
    "        return a\n",
    "    \n",
    "    def workout(self, get):\n",
    "        #method to find the specifc nmetric that we want to find\n",
    "        if get== \"precision\":\n",
    "            return self.precision()\n",
    "        if get== \"recall\":\n",
    "            return self.recall()\n",
    "        if get== \"f1\":\n",
    "            return self.f1()\n",
    "        if get== \"accuracy\":\n",
    "            return self.accuracy()\n",
    "    "
   ]
  },
  {
   "cell_type": "code",
   "execution_count": 19,
   "metadata": {},
   "outputs": [],
   "source": [
    "#t_f = [wordlist for (wordlist, label) in training_norm]  # words of testing data\n",
    "#t_l = [label for (wordlist, label) in training_norm]  # labels of test data\n",
    "#t_l_pr = [classifier.classify(f) for f in t_l_pr]  # predicted labels of test data\n",
    "#cm = nltk.ConfusionMatrix(t_l, t_l_pr)"
   ]
  },
  {
   "cell_type": "code",
   "execution_count": 178,
   "metadata": {},
   "outputs": [],
   "source": [
    "docs,labels=zip(*testing_norm)\n",
    "cm=ConfusionMatrix(classifier.classify_many(docs),labels)"
   ]
  },
  {
   "cell_type": "markdown",
   "metadata": {},
   "source": [
    "* Accuracy:\n",
    "\\begin{eqnarray*} \n",
    "A =\\frac{TP + TN}{TP +TN +FP +FN}\n",
    "\\end{eqnarray*}\n",
    "* Precision: \n",
    "\\begin{eqnarray*}\n",
    "P=\\frac{TP}{TP+FP}\n",
    "\\end{eqnarray*}\n",
    "* Recall: \n",
    "\\begin{eqnarray*}\n",
    "R=\\frac{TP}{TP+FN}\n",
    "\\end{eqnarray*}\n",
    "* F1-score: \n",
    "\\begin{eqnarray*}\n",
    "F1 = \\frac{2\\times P\\times R}{P+R}\n",
    "\\end{eqnarray*}\n"
   ]
  },
  {
   "cell_type": "code",
   "execution_count": 179,
   "metadata": {},
   "outputs": [],
   "source": [
    "A = cm.workout(\"accuracy\")\n",
    "P = cm.workout(\"precision\")\n",
    "R= cm.workout(\"recall\")\n",
    "F1= cm.workout(\"f1\")"
   ]
  },
  {
   "cell_type": "code",
   "execution_count": 180,
   "metadata": {
    "scrolled": false
   },
   "outputs": [
    {
     "name": "stdout",
     "output_type": "stream",
     "text": [
      "The Accuracy of the test :73.833%\n",
      "The Precision of the test:70.487%\n",
      "The Recall of the test:82.000%\n",
      "The F1-score of the test:75.809%\n"
     ]
    }
   ],
   "source": [
    "print(\"The Accuracy of the test :{:.3f}%\".format(A*100))\n",
    "print(\"The Precision of the test:{:.3f}%\".format(P*100))\n",
    "print(\"The Recall of the test:{:.3f}%\".format(R*100))\n",
    "print(\"The F1-score of the test:{:.3f}%\".format(F1*100))"
   ]
  },
  {
   "cell_type": "code",
   "execution_count": 23,
   "metadata": {},
   "outputs": [],
   "source": [
    "#confusion class here maybe"
   ]
  },
  {
   "cell_type": "markdown",
   "metadata": {},
   "source": [
    "Using the training_data with utilisation of the nltk.ConfusionMatrix feature I was able to simply create the confusion matrix. t_f is the training features which is a list of the lists that are in the training normal data. This is the reviews without their corresponding labels which indicate whether they are positive or negative reviews.\n",
    "\n",
    "Their corresponding labels are saved in the t_l variable. This is also a list of only \"pos\" or \"neg\" string as elements of the list.\n",
    "\n",
    "Using the classifier.classify class as designed and implemented in the previous section I had created a new variable called t_l_pr (test label prediction) which is another list that has an element of either \"pos\" or \"neg\" in the same index as the training label. The training label here is the real review and the training label prediction is what category my classifer has analysed the feature to be either \"pos\" or \"neg\""
   ]
  },
  {
   "cell_type": "markdown",
   "metadata": {},
   "source": [
    "#### B) \n",
    "Accuracy is a not a great tool to use here as the classes are **unbalanced** It does not distinguish between the number of correctly classified examples of different classes and hence it often leads to inaccurate conclusions. $\\implies$ High accuracy does not mean that we have a good performace on predicting a specific label.\n",
    "\n",
    "An example of this is the email spam or not spam classification. The spam count if usually very low than the number of not spam and thus the two classes lead to imbalanced data. We can reduce the restriction on the classifier for spam emails that always predicts emails as not spam. This will yield a higher accuracy, however this is the accuracy paradox where TP <FP. Accuracy always increases when a classification rule is strictly always negative. Conversely where TN < FN the same thing happens with the classifciation of always positive. This is why we don't use accuracy as it would lead to the false assumption that one classificer model is superior to another. Precision and recall to the rescue!\n",
    "\n",
    "The accuracy is a good metric to use when we are interested in the True Positives and True Negatives, although F1 score is used when these two above are of crutial importance."
   ]
  },
  {
   "cell_type": "markdown",
   "metadata": {
    "id": "LIS9UpmJNEAp"
   },
   "source": [
    "## 4\n",
    "a)  **Construct** a Naive Bayes classifier (e.g., from NLTK).\n",
    "\n",
    "b)  **Compare** the performance of your word list classifier with the Naive Bayes classifier.  **Discuss** your results. \n",
    "\n"
   ]
  },
  {
   "cell_type": "code",
   "execution_count": 24,
   "metadata": {},
   "outputs": [],
   "source": [
    "from nltk.classify import NaiveBayesClassifier\n",
    "import nltk.metrics\n"
   ]
  },
  {
   "cell_type": "code",
   "execution_count": 249,
   "metadata": {
    "scrolled": true
   },
   "outputs": [],
   "source": [
    "docs,labels = zip(*training_norm)"
   ]
  },
  {
   "cell_type": "code",
   "execution_count": 182,
   "metadata": {
    "scrolled": true
   },
   "outputs": [],
   "source": [
    "naivebayes = nltk.NaiveBayesClassifier.train(training_norm)\n",
    "# from the nltk library\n",
    "A_2 = nltk.classify.accuracy(naivebayes,testing_norm) "
   ]
  },
  {
   "cell_type": "code",
   "execution_count": 183,
   "metadata": {
    "scrolled": true
   },
   "outputs": [],
   "source": [
    "# use of confuction matrix class as before to calculate the metrics\n",
    "cm_2 = ConfusionMatrix(naivebayes.classify_many(docs),labels)\n",
    "P_2= cm_2.workout(\"precision\")\n",
    "R_2= cm_2.workout(\"recall\")\n",
    "F1_2= cm_2.workout(\"f1\")"
   ]
  },
  {
   "cell_type": "code",
   "execution_count": 184,
   "metadata": {},
   "outputs": [
    {
     "name": "stdout",
     "output_type": "stream",
     "text": [
      "The Accuracy of the test :72.000%\n",
      "The Precision of the test:99.432%\n",
      "The Recall of the test:100.000%\n",
      "The F1-score of the test:99.715%\n"
     ]
    }
   ],
   "source": [
    "print(\"The Accuracy of the test :{:.3f}%\".format(A_2*100))\n",
    "print(\"The Precision of the test:{:.3f}%\".format(P_2*100))\n",
    "print(\"The Recall of the test:{:.3f}%\".format(R_2*100))\n",
    "print(\"The F1-score of the test:{:.3f}%\".format(F1_2*100))"
   ]
  },
  {
   "cell_type": "code",
   "execution_count": 185,
   "metadata": {},
   "outputs": [],
   "source": [
    "compare = {} #creating empty diction to add through the two results and comapre\n",
    "compare[\"Comparison\"] =[\"Accuracy\",\"Precision\",\"Recall\",\"F1\"]\n",
    "compare[\"Word Llist Classifier\"]= [A,P,R,F1]\n",
    "compare[\"Naive Bayes Classifier\"]= [A_2,P_2,R_2,F1_2]"
   ]
  },
  {
   "cell_type": "code",
   "execution_count": 186,
   "metadata": {},
   "outputs": [
    {
     "data": {
      "text/html": [
       "<div>\n",
       "<style scoped>\n",
       "    .dataframe tbody tr th:only-of-type {\n",
       "        vertical-align: middle;\n",
       "    }\n",
       "\n",
       "    .dataframe tbody tr th {\n",
       "        vertical-align: top;\n",
       "    }\n",
       "\n",
       "    .dataframe thead th {\n",
       "        text-align: right;\n",
       "    }\n",
       "</style>\n",
       "<table border=\"1\" class=\"dataframe\">\n",
       "  <thead>\n",
       "    <tr style=\"text-align: right;\">\n",
       "      <th></th>\n",
       "      <th>Comparison</th>\n",
       "      <th>Word Llist Classifier</th>\n",
       "      <th>Naive Bayes Classifier</th>\n",
       "    </tr>\n",
       "  </thead>\n",
       "  <tbody>\n",
       "    <tr>\n",
       "      <th>0</th>\n",
       "      <td>Accuracy</td>\n",
       "      <td>0.738333</td>\n",
       "      <td>0.720000</td>\n",
       "    </tr>\n",
       "    <tr>\n",
       "      <th>1</th>\n",
       "      <td>Precision</td>\n",
       "      <td>0.704871</td>\n",
       "      <td>0.994318</td>\n",
       "    </tr>\n",
       "    <tr>\n",
       "      <th>2</th>\n",
       "      <td>Recall</td>\n",
       "      <td>0.820000</td>\n",
       "      <td>1.000000</td>\n",
       "    </tr>\n",
       "    <tr>\n",
       "      <th>3</th>\n",
       "      <td>F1</td>\n",
       "      <td>0.758089</td>\n",
       "      <td>0.997151</td>\n",
       "    </tr>\n",
       "  </tbody>\n",
       "</table>\n",
       "</div>"
      ],
      "text/plain": [
       "  Comparison  Word Llist Classifier  Naive Bayes Classifier\n",
       "0   Accuracy               0.738333                0.720000\n",
       "1  Precision               0.704871                0.994318\n",
       "2     Recall               0.820000                1.000000\n",
       "3         F1               0.758089                0.997151"
      ]
     },
     "metadata": {},
     "output_type": "display_data"
    }
   ],
   "source": [
    "df = pd.DataFrame(compare) # data frame to make it easy to view\n",
    "display(df)"
   ]
  },
  {
   "cell_type": "markdown",
   "metadata": {},
   "source": [
    "Both Word List Classifier and Naive Bayes Classifer have a similar accuracy implies that they are similar at correctly obtaining the predicted data points, this measure is how much the result conforms to our predicted standard, a 2% difference doesn't mean anything so they are both as accurate as eachother. \n",
    "\n",
    "The naive bayes algorith is alot higher than the Word list Classifier, with a almost 100% precision this is an excellent result. This implies that the classifier will return more relevant results than the irrlevant ones. This indicates that the number of positive class prediction that are actually positive is very high. In the word list classifier alot of positive classes can be predicted as negative - roughly every 1 in 10 being falsely labled compared to the Naive Bayes Classifier where this error almost never occurs.\n",
    "\n",
    "Recall (sensetivity) is 100% for the Naive Bayes Classifier and this is due to the formula when Recall = 1 this implies that numerator = denominator and therefore TP=TP+FN. Here the number of FN (False Negatives) =0 implying that there have been no miss labled positive reviews as negative.\n",
    "\n",
    "F1 score is the weighed average of the Precision and Recall a high value here indicates that the values FP and FN are low. A F1 score of 0.997 is excellent and definatly implies that the Naive Bayes is a better classifier compared to the 0.745 of the Word List. Since Bayes Classifier has high precision and recall this is why the f1 score is so highly rated, conversely the opposite for Word List Classifier.\n",
    "\n",
    "Overall the performance of the Naive Bayes Classifier is much better than the Word List with the Word List providing wrong labels quite a lot of the time. Here the F1 score is the best metric for us to use as our training data is imbalanced."
   ]
  },
  {
   "cell_type": "markdown",
   "metadata": {
    "id": "LGDXaVDqOSfY"
   },
   "source": [
    "## 5\n",
    "a) Design and **carry out an experiment** into the impact of the **length of the wordlists** on the wordlist classifier.  Make sure you **describe** design decisions in your experiment, include a **graph** of your results and **discuss** your conclusions. \n",
    "\n",
    "b) Would you **recommend** a wordlist classifier or a Naive Bayes classifier for future work in this area?  **Justify** your answer.\n",
    "\n",
    "\n"
   ]
  },
  {
   "cell_type": "markdown",
   "metadata": {},
   "source": [
    "To compare the impact of wordlist length on the accuracy,precision, recall and F1-score. To do so I will create a function which has an input of n (the number of words in the Word List to classify my text). This will return out a dictionary of accuracy, precision, recall and f1 score for the respective length of the Word List, namely n."
   ]
  },
  {
   "cell_type": "code",
   "execution_count": 187,
   "metadata": {},
   "outputs": [],
   "source": [
    "def impact(n,poslistfreq=poslistfreq,neglistfreq=neglistfreq,testing=testing_norm):\n",
    "    posdifference = poslistfreq - neglistfreq\n",
    "    negdifference = neglistfreq - poslistfreq\n",
    "    pos_freq_diff= posdifference.most_common(n)\n",
    "    neg_freq_diff = negdifference.most_common(n)\n",
    "    my_pos_word_list = []\n",
    "    my_neg_word_list = []\n",
    "    for i in range(n):\n",
    "        my_neg_word_list.append(neg_freq_diff[i][0])\n",
    "        my_pos_word_list.append(pos_freq_diff[i][0])\n",
    "    classifier = SimpleClassifier(my_pos_word_list, my_neg_word_list)\n",
    "    docs,labels=zip(*testing)\n",
    "    cm=ConfusionMatrix(classifier.classify_many(docs),labels)\n",
    "    A = cm.workout(\"accuracy\")\n",
    "    P = cm.workout(\"precision\")\n",
    "    R= cm.workout(\"recall\")\n",
    "    F1= cm.workout(\"f1\")\n",
    "    mydict = {\"Accuracy\":A,\"Precision\":P,\"Recall\":R,\"F1\":F1}\n",
    "    return mydict"
   ]
  },
  {
   "cell_type": "markdown",
   "metadata": {},
   "source": [
    "Now that the impact function has been written - it is necessary to create all the instances of impact. These will be the resultant dictionaries that are returned from the impact function. Below I have looked at the difference instances of the length of the wordlist classifier, then after the relevant \"keys\" from the dictionarys have been added to a new dictionary which takes only either accuracy, precision, recall or F1 from the impact function."
   ]
  },
  {
   "cell_type": "code",
   "execution_count": 194,
   "metadata": {},
   "outputs": [],
   "source": [
    "wordlist_len5=impact(5)\n",
    "wordlist_len10=impact(10)\n",
    "wordlist_len15=impact(15)\n",
    "wordlist_len20=impact(20)\n",
    "wordlist_len25=impact(25)\n",
    "wordlist_len30=impact(30)"
   ]
  },
  {
   "cell_type": "code",
   "execution_count": 195,
   "metadata": {},
   "outputs": [
    {
     "name": "stdout",
     "output_type": "stream",
     "text": [
      "{'Accuracy': 0.6833333333333333, 'Precision': 0.6751592356687898, 'Recall': 0.7066666666666667, 'F1': 0.6905537459283387}\n",
      "{'Accuracy': 0.7383333333333333, 'Precision': 0.7048710601719198, 'Recall': 0.82, 'F1': 0.7580893682588598}\n",
      "{'Accuracy': 0.7233333333333334, 'Precision': 0.6700507614213198, 'Recall': 0.88, 'F1': 0.760806916426513}\n",
      "{'Accuracy': 0.7083333333333334, 'Precision': 0.6506024096385542, 'Recall': 0.9, 'F1': 0.7552447552447552}\n",
      "{'Accuracy': 0.7133333333333334, 'Precision': 0.6576354679802956, 'Recall': 0.89, 'F1': 0.7563739376770539}\n",
      "{'Accuracy': 0.7283333333333334, 'Precision': 0.6683046683046683, 'Recall': 0.9066666666666666, 'F1': 0.7694483734087695}\n"
     ]
    }
   ],
   "source": [
    "print(wordlist_len5)\n",
    "print(wordlist_len10)\n",
    "print(wordlist_len15)\n",
    "print(wordlist_len20)\n",
    "print(wordlist_len25)\n",
    "print(wordlist_len30)"
   ]
  },
  {
   "cell_type": "code",
   "execution_count": 203,
   "metadata": {},
   "outputs": [],
   "source": [
    "accuracydic={\"Accuracy\": [wordlist_len5[\"Accuracy\"] , wordlist_len10[\"Accuracy\"] , wordlist_len15[\"Accuracy\"],\n",
    "                  wordlist_len20[\"Accuracy\"], wordlist_len25[\"Accuracy\"] ,wordlist_len30[\"Accuracy\"]] for key in accuracydic}\n",
    "precisiondic={\"Precision\": [wordlist_len5[\"Precision\"] , wordlist_len10[\"Precision\"] , wordlist_len15[\"Precision\"],\n",
    "                  wordlist_len20[\"Precision\"], wordlist_len25[\"Precision\"] ,wordlist_len30[\"Precision\"]] for key in precisiondic}\n",
    "recalldic={\"Recall\": [wordlist_len5[\"Recall\"] , wordlist_len10[\"Recall\"] , wordlist_len15[\"Recall\"],\n",
    "                  wordlist_len20[\"Recall\"], wordlist_len25[\"Recall\"] ,wordlist_len30[\"Recall\"]] for key in recalldic}\n",
    "f1dic={\"F1\": [wordlist_len5[\"F1\"] , wordlist_len10[\"F1\"] , wordlist_len15[\"F1\"],\n",
    "                  wordlist_len20[\"F1\"], wordlist_len25[\"F1\"] ,wordlist_len30[\"F1\"]] for key in f1dic}\n",
    "lengths={\"Lengths\": [5,10,15,20,25,30]}"
   ]
  },
  {
   "cell_type": "markdown",
   "metadata": {},
   "source": [
    "The code above takes care of sorting the results from each of the wordlist_len dictionaries into their appropriate categories."
   ]
  },
  {
   "cell_type": "code",
   "execution_count": 246,
   "metadata": {
    "scrolled": false
   },
   "outputs": [
    {
     "data": {
      "image/png": "[encoded data removed]",
      "text/plain": [
       "<Figure size 1080x936 with 4 Axes>"
      ]
     },
     "metadata": {
      "needs_background": "light"
     },
     "output_type": "display_data"
    }
   ],
   "source": [
    "from matplotlib.ticker import FormatStrFormatter\n",
    "\n",
    "fig, axs = plt.subplots(2,2,figsize=(15,13)) #creates 4 different subplots\n",
    "axs[0,0].plot((lengths[\"Lengths\"]),(accuracydic[\"Accuracy\"]),color=\"red\", marker= \"o\") \n",
    "#plotting the legths against resultatn accuracy, changing colour and creating a marker at the specific results\n",
    "axs[0,0].set_title(\"Accuracy change for Word List Lengths\")\n",
    "axs[0,0].set_xlabel(\"Word List Lengths\")\n",
    "axs[0,0].set_ylabel(\"Accuracy\")\n",
    "axs[0,0].set_xticks(lengths[\"Lengths\"]) # mark corresponding values from lengths dictionary\n",
    "axs[0,0].set_yticks(accuracydic[\"Accuracy\"])#removes a generic plot of y axis values and specifies the y markers as results from accuracy dictionary\n",
    "axs[0,0].yaxis.set_major_formatter(FormatStrFormatter(\"%.3f\")) #setting y axis to have 3 significant figures for the result\n",
    "\n",
    "# below I mapped the other graphs with the same features as above.\n",
    "axs[0,1].plot((lengths[\"Lengths\"]),(precisiondic[\"Precision\"]),color=\"black\", marker= \"o\")\n",
    "axs[0,1].set_title(\"Precision change for Word List Lengths\")\n",
    "axs[0,1].set_xlabel(\"Word List Lengths\")\n",
    "axs[0,1].set_ylabel(\"Precision\")\n",
    "axs[0,1].set_xticks(lengths[\"Lengths\"])\n",
    "axs[0,1].set_yticks(precisiondic[\"Precision\"])\n",
    "axs[0,1].yaxis.set_major_formatter(FormatStrFormatter(\"%.3f\")) \n",
    "\n",
    "axs[1,0].plot((lengths[\"Lengths\"]),(recalldic[\"Recall\"]),color=\"orange\", marker= \"o\")\n",
    "axs[1,0].set_title(\"Recall change for Word List Lengths\")\n",
    "axs[1,0].set_xlabel(\"Word List Lengths\")\n",
    "axs[1,0].set_ylabel(\"Recall\")\n",
    "axs[1,0].set_xticks(lengths[\"Lengths\"])\n",
    "axs[1,0].set_yticks(recalldic[\"Recall\"])\n",
    "axs[1,0].yaxis.set_major_formatter(FormatStrFormatter(\"%.3f\")) \n",
    "\n",
    "axs[1,1].plot((lengths[\"Lengths\"]),(f1dic[\"F1\"]), marker= \"o\")\n",
    "axs[1,1].set_title(\"F1-Score change for Word List Lengths\")\n",
    "axs[1,1].set_xlabel(\"Word List Lengths\")\n",
    "axs[1,1].set_ylabel(\"F1-Score\")\n",
    "axs[1,1].set_xticks(lengths[\"Lengths\"])\n",
    "axs[1,1].set_yticks(f1dic[\"F1\"])\n",
    "axs[1,1].yaxis.set_major_formatter(FormatStrFormatter(\"%.3f\")) \n",
    "\n",
    "plt.subplots_adjust(top=1.5, hspace=0.1, wspace=0.5)\n"
   ]
  },
  {
   "cell_type": "markdown",
   "metadata": {},
   "source": [
    "To conclude, every metric except the precision has improved from the extension of the word list classifier. This make sense as there are more classifiers to determin whether text has positive or negative sentiment. If we are keen to keep precision as high as possible then a word list of length 10 needs to be selected. However the difference between a 30 and 10 word list classifier in regards to precision is only $\\approx$ 4% which would not drastically impact the result, given that F1-Score is the most popular metric it has increased with nearly every increased size of the wordlist length increase. This is great news as it means that we will get better and better classifications which will entail that our classifier is better at classifcation of sentiment.\n",
    "\n",
    "Naive bayes classification is better at text classification than my word list classifier. This is because it has repeated higher scores for each of the metrics. Additionally if there are multiple classes. Since we have indepedence in our class this implies that the Naive Bayes quickly converge and would in turn require less training data. This also achieved much greater computational efficiency. This means that for very large data sets the Naive Bayes method is very efficient.  Naive Bayes can be used to make predictions in real time which is a huge advantage to the given topic. With the word list classifier when we get more and more data then the training data needs to be adjusted and a new wordlist needs to be recalculated. This is a dissadvantage of using the wordlist classifier."
   ]
  },
  {
   "cell_type": "code",
   "execution_count": 247,
   "metadata": {
    "colab": {
     "base_uri": "https://localhost:8080/",
     "height": 34
    },
    "executionInfo": {
     "elapsed": 946,
     "status": "ok",
     "timestamp": 1602228353024,
     "user": {
      "displayName": "Julie Weeds",
      "photoUrl": "",
      "userId": "13844540934373660130"
     },
     "user_tz": -60
    },
    "id": "34rdlS_iPov6",
    "outputId": "06237f84-098e-4c36-efc5-52ab25d68da5"
   },
   "outputs": [
    {
     "name": "stdout",
     "output_type": "stream",
     "text": [
      "Submission length is 1677\n"
     ]
    }
   ],
   "source": [
    "##This code will word count all of the markdown cells in the notebook saved at filepath\n",
    "##Running it before providing any answers shows that the questions have a word count of 437\n",
    "\n",
    "import io\n",
    "from nbformat import current\n",
    "\n",
    "filepath=\"Sentiment Classification.ipynb\"\n",
    "question_count=437\n",
    "\n",
    "with io.open(filepath, 'r', encoding='utf-8') as f:\n",
    "    nb = current.read(f, 'json')\n",
    "\n",
    "word_count = 0\n",
    "for cell in nb.worksheets[0].cells:\n",
    "    if cell.cell_type == \"markdown\":\n",
    "        word_count += len(cell['source'].replace('#', '').lstrip().split(' '))\n",
    "print(\"Submission length is {}\".format(word_count-question_count))"
   ]
  },
  {
   "cell_type": "code",
   "execution_count": null,
   "metadata": {
    "id": "PtqCcG6wPsmf"
   },
   "outputs": [],
   "source": []
  }
 ],
 "metadata": {
  "colab": {
   "authorship_tag": "ABX9TyNR6MWwZjzeJdfC3cJvdSQV",
   "name": "assignment1_SOLUTIONS.ipynb",
   "provenance": []
  },
  "kernelspec": {
   "display_name": "Python 3",
   "language": "python",
   "name": "python3"
  },
  "language_info": {
   "codemirror_mode": {
    "name": "ipython",
    "version": 3
   },
   "file_extension": ".py",
   "mimetype": "text/x-python",
   "name": "python",
   "nbconvert_exporter": "python",
   "pygments_lexer": "ipython3",
   "version": "3.8.8"
  }
 },
 "nbformat": 4,
 "nbformat_minor": 1
}
